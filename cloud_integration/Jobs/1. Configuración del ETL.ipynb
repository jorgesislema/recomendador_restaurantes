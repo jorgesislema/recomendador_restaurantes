{
 "cells": [
  {
   "cell_type": "markdown",
   "metadata": {
    "application/vnd.databricks.v1+cell": {
     "cellMetadata": {},
     "inputWidgets": {},
     "nuid": "e928d755-0e78-4963-8814-24c18caecd08",
     "showTitle": false,
     "tableResultSettingsMap": {},
     "title": ""
    }
   },
   "source": [
    "1. Configuración del ETL\n",
    "\n",
    "Este trabajo se realizará las siguientes actividades sin importar el formato del archivo lee csv .xlsx y json:\n",
    "\n",
    "    Limpieza del archivo: Eliminar filas duplicadas y vacías.\n",
    "    Validación: Verificar que el esquema del archivo sea consistente con la tabla destino.\n",
    "    Transformación: Ajustar las columnas si es necesario."
   ]
  },
  {
   "cell_type": "code",
   "execution_count": 0,
   "metadata": {
    "application/vnd.databricks.v1+cell": {
     "cellMetadata": {
      "byteLimit": 2048000,
      "rowLimit": 10000
     },
     "inputWidgets": {},
     "nuid": "cb9bdff6-3674-4566-ba85-32a22fa45542",
     "showTitle": false,
     "tableResultSettingsMap": {},
     "title": ""
    }
   },
   "outputs": [
    {
     "output_type": "stream",
     "name": "stdout",
     "output_type": "stream",
     "text": [
      "ETL completado para /dbfs/mnt/ingest_data/raw/datos_de_prueba.csv. Datos procesados guardados en: /dbfs/mnt/ingest_data/processed/etl_datos_de_prueba.parquet\n"
     ]
    }
   ],
   "source": [
    "import pandas as pd\n",
    "import os\n",
    "from pathlib import Path\n",
    "\n",
    "#Cargamos la rutas de ingreso y salida\n",
    "ruta_raw = \"/dbfs/mnt/ingest_data/raw/\"\n",
    "ruta_processed = \"/dbfs/mnt/ingest_data/processed/\"\n",
    "\n",
    "# Obtenemos la lista de archivos en la carpeta raw\n",
    "archivos = [str(f) for f in Path(ruta_raw).glob(\"*\") if f.is_file()]\n",
    "\n",
    "# Procesamos los archivos en la carpeta raw\n",
    "for ruta_archivo in archivos:\n",
    "    extension = os.path.splitext(ruta_archivo)[1].lower()\n",
    "\n",
    "    # Leemos el archivo según su formato\n",
    "    if extension == \".csv\":\n",
    "        df = pd.read_csv(ruta_archivo)\n",
    "    elif extension == \".json\":\n",
    "        df = pd.read_json(ruta_archivo)\n",
    "    elif extension == \".xlsx\":\n",
    "        df = pd.read_excel(ruta_archivo, sheet_name=0)\n",
    "    else:\n",
    "        print(f\"Formato no soportado: {ruta_archivo}\")\n",
    "        continue\n",
    "\n",
    "    # Eliminamos duplicados\n",
    "    df_sin_duplicados = df.drop_duplicates()\n",
    "\n",
    "    # Eliminamos filas vacías basadas en columnas clave\n",
    "    columnas_clave = [\"id\", \"nombre\"]  # Cambia según las columnas esperadas\n",
    "    df_limpio = df_sin_duplicados.dropna(subset=[c for c in columnas_clave if c in df_sin_duplicados.columns])\n",
    "\n",
    "    # 3. Validamos el esquema esperado\n",
    "    esquema_esperado = [\"id_servicios_restaurantes\",\"servicios_restaurantes\",\"direccion\",\"id_condado,condado\",\"codigo_postal_condado\",\"latitud_condado\",\"longitud_condado\",\"id_ciudad\",\"ciudad\",\"codigo_postal_ciudad\",\"latitud,longitud\",\"estado,categorias\",\"puntuacion_usuarios\",\"analisis_sentimientos\",\"url_del_negocio\",\"enlaces_google_maps\",\"anio\"\n",
    "]\n",
    "    df_validado = df_limpio[[c for c in esquema_esperado if c in df_limpio.columns]]\n",
    "\n",
    "    # Guardamos el archivo procesado en la carpeta `processed`\n",
    "    nombre_archivo = os.path.basename(ruta_archivo)\n",
    "    ruta_salida = f\"{ruta_processed}etl_{os.path.splitext(nombre_archivo)[0]}.parquet\"\n",
    "    df_validado.to_parquet(ruta_salida, index=False)\n",
    "\n",
    "    print(f\"ETL completado para {ruta_archivo}. Datos procesados guardados en: {ruta_salida}\")\n",
    "\n",
    "\n",
    "\n",
    "\n",
    "\n"
   ]
  }
 ],
 "metadata": {
  "application/vnd.databricks.v1+notebook": {
   "computePreferences": null,
   "dashboards": [],
   "environmentMetadata": {
    "base_environment": "",
    "client": "1"
   },
   "language": "python",
   "notebookMetadata": {
    "pythonIndentUnit": 4
   },
   "notebookName": "1. Configuración del ETL",
   "widgets": {}
  },
  "language_info": {
   "name": "python"
  }
 },
 "nbformat": 4,
 "nbformat_minor": 0
}