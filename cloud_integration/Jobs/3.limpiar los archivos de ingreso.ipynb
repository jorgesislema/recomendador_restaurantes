{
 "cells": [
  {
   "cell_type": "markdown",
   "metadata": {
    "application/vnd.databricks.v1+cell": {
     "cellMetadata": {
      "byteLimit": 2048000,
      "rowLimit": 10000
     },
     "inputWidgets": {},
     "nuid": "92a05e67-a1e6-4899-b74d-f55771fa9295",
     "showTitle": false,
     "tableResultSettingsMap": {},
     "title": ""
    }
   },
   "source": [
    "3. Eliminamos los datos de la carpeta raw para evitar que se lea el archivo de nuevo"
   ]
  },
  {
   "cell_type": "code",
   "execution_count": 0,
   "metadata": {
    "application/vnd.databricks.v1+cell": {
     "cellMetadata": {
      "byteLimit": 2048000,
      "rowLimit": 10000
     },
     "inputWidgets": {},
     "nuid": "5ebeba47-1f1f-45ce-a05c-dda328b1c73d",
     "showTitle": false,
     "tableResultSettingsMap": {},
     "title": ""
    }
   },
   "outputs": [
    {
     "output_type": "stream",
     "name": "stdout",
     "output_type": "stream",
     "text": [
      "Archivos eliminados de la carpeta 'raw'.\n"
     ]
    }
   ],
   "source": [
    "# Cargamos la ruta de la carpeta raw\n",
    "ruta_raw = \"dbfs:/mnt/ingest_data/raw/\"\n",
    "\n",
    "# Eliminamos todos los archivos en la carpeta raw\n",
    "dbutils.fs.rm(ruta_raw, True)\n",
    "\n",
    "print(\"Archivos eliminados de la carpeta 'raw'.\")\n",
    "\n",
    "\n",
    "\n",
    "\n",
    "\n"
   ]
  }
 ],
 "metadata": {
  "application/vnd.databricks.v1+notebook": {
   "computePreferences": null,
   "dashboards": [],
   "environmentMetadata": {
    "base_environment": "",
    "client": "1"
   },
   "language": "python",
   "notebookMetadata": {
    "pythonIndentUnit": 4
   },
   "notebookName": "3.limpiar los archivos  de ingreso",
   "widgets": {}
  },
  "language_info": {
   "name": "python"
  }
 },
 "nbformat": 4,
 "nbformat_minor": 0
}