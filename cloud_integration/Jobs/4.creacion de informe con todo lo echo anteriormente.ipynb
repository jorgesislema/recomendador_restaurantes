{
 "cells": [
  {
   "cell_type": "code",
   "execution_count": 0,
   "metadata": {
    "application/vnd.databricks.v1+cell": {
     "cellMetadata": {
      "byteLimit": 2048000,
      "rowLimit": 10000
     },
     "inputWidgets": {},
     "nuid": "c1433dc8-fb84-48e4-b9aa-59dce18ca162",
     "showTitle": false,
     "tableResultSettingsMap": {},
     "title": ""
    }
   },
   "outputs": [
    {
     "output_type": "stream",
     "name": "stdout",
     "output_type": "stream",
     "text": [
      "Informe generado y guardado en: /Workspace/informe_procesamiento.pdf\n"
     ]
    }
   ],
   "source": [
    "from fpdf import FPDF\n",
    "from datetime import datetime\n",
    "\n",
    "# Definimos las rutas de los archivos procesados directamente\n",
    "ruta_processed = \"dbfs:/mnt/ingest_data/processed/\"\n",
    "archivos_procesados = [f.path for f in dbutils.fs.ls(ruta_processed)]\n",
    "\n",
    "trabajo_1 = {\n",
    "    \"descripcion\": \"ETL: Eliminación de duplicados, filas vacías y validación de esquema.\",\n",
    "    \"resultados\": {\n",
    "        \"archivos_procesados\": len(archivos_procesados),\n",
    "    }\n",
    "}\n",
    "\n",
    "trabajo_2 = {\n",
    "    \"descripcion\": \"Carga en tabla Delta: servicio_restaurantes.\",\n",
    "    \"resultados\": {\n",
    "        \"tabla_destino\": \"aprendisaje.default.servicio_restaurantes\",\n",
    "        \"archivos_cargados\": len(archivos_procesados),\n",
    "    }\n",
    "}\n",
    "\n",
    "trabajo_3 = {\n",
    "    \"descripcion\": \"Limpieza de la carpeta 'raw'.\",\n",
    "    \"resultados\": {\n",
    "        \"archivos_eliminados\": len(archivos_procesados),  # Suponemos que cada archivo procesado fue eliminado\n",
    "    }\n",
    "}\n",
    "\n",
    "# Creamos el  contenido del informe\n",
    "fecha_actual = datetime.now().strftime(\"%Y-%m-%d %H:%M:%S\")\n",
    "contenido = f\"\"\"\n",
    "INFORME DE PROCESAMIENTO DE DATOS\n",
    "Fecha: {fecha_actual}\n",
    "\n",
    "1. Trabajo 1: {trabajo_1['descripcion']}\n",
    "   - Archivos procesados: {trabajo_1['resultados']['archivos_procesados']}\n",
    "\n",
    "2. Trabajo 2: {trabajo_2['descripcion']}\n",
    "   - Tabla destino: {trabajo_2['resultados']['tabla_destino']}\n",
    "   - Archivos cargados: {trabajo_2['resultados']['archivos_cargados']}\n",
    "\n",
    "3. Trabajo 3: {trabajo_3['descripcion']}\n",
    "   - Archivos eliminados: {trabajo_3['resultados']['archivos_eliminados']}\n",
    "\"\"\"\n",
    "\n",
    "# Creamos  el documento  en formato PDF\n",
    "pdf = FPDF()\n",
    "pdf.add_page()\n",
    "pdf.set_font(\"Arial\", size=12)\n",
    "pdf.cell(200, 10, txt=\"INFORME DE PROCESAMIENTO DE DATOS\", ln=True, align=\"C\")\n",
    "pdf.ln(10)\n",
    "pdf.set_font(\"Arial\", size=10)\n",
    "pdf.multi_cell(0, 10, contenido)\n",
    "\n",
    "# Guardamos el PDF en el archivo Workspace\n",
    "ruta_pdf = \"/Workspace/informe_procesamiento.pdf\"\n",
    "pdf.output(ruta_pdf.replace(\"dbfs:/\", \"/dbfs/\"))\n",
    "\n",
    "print(f\"Informe generado y guardado en: {ruta_pdf}\")\n",
    "\n",
    "\n",
    "\n",
    "\n"
   ]
  }
 ],
 "metadata": {
  "application/vnd.databricks.v1+notebook": {
   "computePreferences": null,
   "dashboards": [],
   "environmentMetadata": {
    "base_environment": "",
    "client": "1"
   },
   "language": "python",
   "notebookMetadata": {
    "pythonIndentUnit": 4
   },
   "notebookName": "4.creacion de informe con todo lo echo anteriormente",
   "widgets": {}
  },
  "language_info": {
   "name": "python"
  }
 },
 "nbformat": 4,
 "nbformat_minor": 0
}